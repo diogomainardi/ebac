{
 "cells": [
  {
   "cell_type": "code",
   "execution_count": null,
   "id": "30180d69-7b68-4444-95cb-1bea481331aa",
   "metadata": {},
   "outputs": [
    {
     "name": "stdin",
     "output_type": "stream",
     "text": [
      "Digite o primeiro número: 2\n",
      "Digite o segundo número: 5\n",
      "Digite a operação: *\n"
     ]
    },
    {
     "name": "stdout",
     "output_type": "stream",
     "text": [
      "2 * 5 = 10\n"
     ]
    }
   ],
   "source": [
    "while True:\n",
    "\n",
    "    numero1 = int(input(\"Digite o primeiro número:\"))\n",
    "    numero2 = int(input(\"Digite o segundo número:\"))\n",
    "    operacao = input(\"Digite a operação:\")\n",
    "    resultado = 0 \n",
    "        \n",
    "    if operacao == \"+\":\n",
    "        resultado = numero1 + numero2\n",
    "            \n",
    "    elif operacao == \"-\":\n",
    "        resultado = numero1 - numero2\n",
    "            \n",
    "    elif operacao == \"/\":\n",
    "        resultado = numero1 / numero2\n",
    "        \n",
    "    elif operacao == \"*\":\n",
    "        resultado = numero1 * numero2\n",
    "        \n",
    "    else:\n",
    "        resultado = \"Digite outro tipo de operação\"\n",
    "            \n",
    "    print(str(numero1) + \" \" + str(operacao) + \" \" + str(numero2) +  \" = \" + str(resultado))"
   ]
  }
 ],
 "metadata": {
  "kernelspec": {
   "display_name": "Python 3 (ipykernel)",
   "language": "python",
   "name": "python3"
  },
  "language_info": {
   "codemirror_mode": {
    "name": "ipython",
    "version": 3
   },
   "file_extension": ".py",
   "mimetype": "text/x-python",
   "name": "python",
   "nbconvert_exporter": "python",
   "pygments_lexer": "ipython3",
   "version": "3.11.7"
  }
 },
 "nbformat": 4,
 "nbformat_minor": 5
}
